{
 "cells": [
  {
   "cell_type": "code",
   "execution_count": 2,
   "metadata": {},
   "outputs": [
    {
     "name": "stdout",
     "output_type": "stream",
     "text": [
      "538.8949155976633\n",
      "[-12.         -11.47474747 -10.94949495 -10.42424242  -9.8989899\n",
      "  -9.37373737  -8.84848485  -8.32323232  -7.7979798   -7.27272727\n",
      "  -6.74747475  -6.22222222  -5.6969697   -5.17171717  -4.64646465\n",
      "  -4.12121212  -3.5959596   -3.07070707  -2.54545455  -2.02020202\n",
      "  -1.49494949  -0.96969697  -0.44444444   0.08080808   0.60606061\n",
      "   1.13131313   1.65656566   2.18181818   2.70707071   3.23232323\n",
      "   3.75757576   4.28282828   4.80808081   5.33333333   5.85858586\n",
      "   6.38383838   6.90909091   7.43434343   7.95959596   8.48484848\n",
      "   9.01010101   9.53535354  10.06060606  10.58585859  11.11111111\n",
      "  11.63636364  12.16161616  12.68686869  13.21212121  13.73737374\n",
      "  14.26262626  14.78787879  15.31313131  15.83838384  16.36363636\n",
      "  16.88888889  17.41414141  17.93939394  18.46464646  18.98989899\n",
      "  19.51515152  20.04040404  20.56565657  21.09090909  21.61616162\n",
      "  22.14141414  22.66666667  23.19191919  23.71717172  24.24242424\n",
      "  24.76767677  25.29292929  25.81818182  26.34343434  26.86868687\n",
      "  27.39393939  27.91919192  28.44444444  28.96969697  29.49494949\n",
      "  30.02020202  30.54545455  31.07070707  31.5959596   32.12121212\n",
      "  32.64646465  33.17171717  33.6969697   34.22222222  34.74747475\n",
      "  35.27272727  35.7979798   36.32323232  36.84848485  37.37373737\n",
      "  37.8989899   38.42424242  38.94949495  39.47474747  40.        ]\n",
      "(2, 2)\n"
     ]
    }
   ],
   "source": [
    "import numpy as np\n",
    "import numpy.typing as npt\n",
    "\n",
    "A = np.random.rand(2,2,10)\n",
    "B = np.expand_dims(np.array([1.0]), axis=-1)\n",
    "y = np.linspace(0, 20, 100)\n",
    "f = np.linspace(3, 10, 100)\n",
    "variance = 2.0\n",
    "\n",
    "def surrogate_fun(f: npt.NDArray, y: npt.NDArray, variance: float) -> tuple[float, npt.NDArray]:\n",
    "    # The surrogate function in this case is the log Likelihood function and its derivative wrt f\n",
    "    # m is m_(k,n) in the paper\n",
    "    out = np.sum( 0.5 * (-np.log(variance) + (y - f) / variance * (y - f) - np.log(2 * np.pi)), axis=None )\n",
    "    # dout = zeros(length(y), 1);\n",
    "    dout_df = -2 * (y - f) * variance\n",
    "    return out, dout_df\n",
    "\n",
    "out1, out2 = surrogate_fun(y, f, variance)\n",
    "print(out1)\n",
    "print(out2)\n",
    "\n",
    "print(np.shape(A[:,:,0]))\n",
    "\n",
    "\n"
   ]
  },
  {
   "cell_type": "code",
   "execution_count": 2,
   "metadata": {},
   "outputs": [
    {
     "name": "stdout",
     "output_type": "stream",
     "text": [
      "Renderers configuration\n",
      "-----------------------\n",
      "    Default renderer: 'plotly_mimetype+notebook'\n",
      "    Available renderers:\n",
      "        ['plotly_mimetype', 'jupyterlab', 'nteract', 'vscode',\n",
      "         'notebook', 'notebook_connected', 'kaggle', 'azure', 'colab',\n",
      "         'cocalc', 'databricks', 'json', 'png', 'jpeg', 'jpg', 'svg',\n",
      "         'pdf', 'browser', 'firefox', 'chrome', 'chromium', 'iframe',\n",
      "         'iframe_connected', 'sphinx_gallery', 'sphinx_gallery_png']\n",
      "\n"
     ]
    }
   ],
   "source": [
    "import plotly.io as pio\n",
    "\n",
    "print(pio.renderers)"
   ]
  },
  {
   "cell_type": "code",
   "execution_count": 7,
   "metadata": {},
   "outputs": [
    {
     "name": "stdout",
     "output_type": "stream",
     "text": [
      "(2, 1)\n",
      "[[1 2]\n",
      " [2 4]]\n"
     ]
    }
   ],
   "source": [
    "l = np.array([1, 2])\n",
    "l = np.expand_dims(l, axis=-1)\n",
    "print(np.shape(l))\n",
    "\n",
    "print(l @ l.T)"
   ]
  }
 ],
 "metadata": {
  "kernelspec": {
   "display_name": "base",
   "language": "python",
   "name": "python3"
  },
  "language_info": {
   "codemirror_mode": {
    "name": "ipython",
    "version": 3
   },
   "file_extension": ".py",
   "mimetype": "text/x-python",
   "name": "python",
   "nbconvert_exporter": "python",
   "pygments_lexer": "ipython3",
   "version": "3.10.13"
  }
 },
 "nbformat": 4,
 "nbformat_minor": 2
}
