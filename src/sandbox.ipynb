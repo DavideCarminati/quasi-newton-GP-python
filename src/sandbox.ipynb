{
 "cells": [
  {
   "cell_type": "code",
   "execution_count": 2,
   "metadata": {},
   "outputs": [],
   "source": [
    "import numpy as np\n",
    "import numpy.typing as npt\n"
   ]
  },
  {
   "cell_type": "code",
   "execution_count": null,
   "metadata": {},
   "outputs": [],
   "source": [
    "\n",
    "A = np.random.rand(2,2,10)\n",
    "B = np.expand_dims(np.array([1.0]), axis=-1)\n",
    "y = np.linspace(0, 20, 100)\n",
    "f = np.linspace(3, 10, 100)\n",
    "variance = 2.0\n",
    "\n",
    "def surrogate_fun(f: npt.NDArray, y: npt.NDArray, variance: float) -> tuple[float, npt.NDArray]:\n",
    "    # The surrogate function in this case is the log Likelihood function and its derivative wrt f\n",
    "    # m is m_(k,n) in the paper\n",
    "    out = np.sum( 0.5 * (-np.log(variance) + (y - f) / variance * (y - f) - np.log(2 * np.pi)), axis=None )\n",
    "    # dout = zeros(length(y), 1);\n",
    "    dout_df = -2 * (y - f) * variance\n",
    "    return out, dout_df\n",
    "\n",
    "out1, out2 = surrogate_fun(y, f, variance)\n",
    "print(out1)\n",
    "print(out2)\n",
    "\n",
    "print(np.shape(A[:,:,0]))\n",
    "\n",
    "\n"
   ]
  },
  {
   "cell_type": "code",
   "execution_count": 7,
   "metadata": {},
   "outputs": [
    {
     "name": "stdout",
     "output_type": "stream",
     "text": [
      "(2, 1)\n",
      "[[1 2]\n",
      " [2 4]]\n"
     ]
    }
   ],
   "source": [
    "l = np.array([1, 2])\n",
    "l = np.expand_dims(l, axis=-1)\n",
    "print(np.shape(l))\n",
    "\n",
    "print(l @ l.T)"
   ]
  },
  {
   "cell_type": "code",
   "execution_count": 5,
   "metadata": {},
   "outputs": [
    {
     "name": "stdout",
     "output_type": "stream",
     "text": [
      "[[ 0.99985143  0.01475693]\n",
      " [-0.01967591  0.96577175]]\n"
     ]
    }
   ],
   "source": [
    "lengthscale = 1.5\n",
    "variance = 1e-3\n",
    "\n",
    "time = np.linspace(0, 15, 1000)\n",
    "dt = time[1] - time[0]\n",
    "\n",
    "lam = 3.0**0.5 / lengthscale\n",
    "F = np.array([[0.0, 1.0],\n",
    "    [-lam**2, -2 * lam]])\n",
    "L = np.array([0, 1])\n",
    "# Q = [12.0 * 3.0 ^ 0.5 / lengthscale ^ 3.0 * variance]; % Actually this is spectral density of beta. We need Qn\n",
    "H = np.array([1.0, 0.0])\n",
    "Pinf = np.array([[variance, 0.0],\n",
    "        [0.0, 3.0 * variance / lengthscale**2.0]])\n",
    "P0 = Pinf\n",
    "# state_transition(self, dt):\n",
    "    \n",
    "#     Calculation of the discrete-time state transition matrix A = expm(FΔt) for the Matern-3/2 prior.\n",
    "#     :param dt: step size(s), Δtₙ = tₙ - tₙ₋₁ [scalar]\n",
    "#     :return: state transition matrix A [2, 2]\n",
    "\n",
    "A_tmp = np.array([[lam, 1.0], [-lam**2.0, -lam]])\n",
    "A = np.array(np.exp(-dt * lam) * (dt * A_tmp + np.identity(2)))\n",
    "print(A)"
   ]
  }
 ],
 "metadata": {
  "kernelspec": {
   "display_name": "base",
   "language": "python",
   "name": "python3"
  },
  "language_info": {
   "codemirror_mode": {
    "name": "ipython",
    "version": 3
   },
   "file_extension": ".py",
   "mimetype": "text/x-python",
   "name": "python",
   "nbconvert_exporter": "python",
   "pygments_lexer": "ipython3",
   "version": "3.10.13"
  }
 },
 "nbformat": 4,
 "nbformat_minor": 2
}
